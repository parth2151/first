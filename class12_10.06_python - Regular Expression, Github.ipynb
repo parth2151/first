{
 "cells": [
  {
   "cell_type": "code",
   "execution_count": 2,
   "id": "automotive-clerk",
   "metadata": {},
   "outputs": [],
   "source": [
    "import re"
   ]
  },
  {
   "cell_type": "code",
   "execution_count": 5,
   "id": "certain-victor",
   "metadata": {},
   "outputs": [
    {
     "data": {
      "text/plain": [
       "'Hi, my email address is harshilb@gmail.com'"
      ]
     },
     "execution_count": 5,
     "metadata": {},
     "output_type": "execute_result"
    }
   ],
   "source": [
    "sen = 'Hi, my email address is harshilb@gmail.com'\n",
    "sen"
   ]
  },
  {
   "cell_type": "code",
   "execution_count": 9,
   "id": "honey-wichita",
   "metadata": {},
   "outputs": [
    {
     "data": {
      "text/plain": [
       "['lb@gmail.com']"
      ]
     },
     "execution_count": 9,
     "metadata": {},
     "output_type": "execute_result"
    }
   ],
   "source": [
    "regex = '[a-z][a-z]@gmail.com'\n",
    "re.findall(regex, sen)"
   ]
  },
  {
   "cell_type": "code",
   "execution_count": 10,
   "id": "radio-turkey",
   "metadata": {},
   "outputs": [],
   "source": [
    "# Quantifiers"
   ]
  },
  {
   "cell_type": "code",
   "execution_count": 11,
   "id": "unexpected-entry",
   "metadata": {},
   "outputs": [
    {
     "data": {
      "text/plain": [
       "['harshilb@gmail.com']"
      ]
     },
     "execution_count": 11,
     "metadata": {},
     "output_type": "execute_result"
    }
   ],
   "source": [
    "regex = '[a-z]*@gmail.com'\n",
    "re.findall(regex, sen)"
   ]
  },
  {
   "cell_type": "code",
   "execution_count": 13,
   "id": "treated-mitchell",
   "metadata": {},
   "outputs": [
    {
     "data": {
      "text/plain": [
       "['@gmail.com']"
      ]
     },
     "execution_count": 13,
     "metadata": {},
     "output_type": "execute_result"
    }
   ],
   "source": [
    "sent = 'Hi, my email address is harshilb2712@gmail.com'\n",
    "regex = '[a-z]*@gmail.com'\n",
    "re.findall(regex, sent)"
   ]
  },
  {
   "cell_type": "code",
   "execution_count": 14,
   "id": "hollywood-penalty",
   "metadata": {},
   "outputs": [
    {
     "data": {
      "text/plain": [
       "['harshilb2712@gmail.com']"
      ]
     },
     "execution_count": 14,
     "metadata": {},
     "output_type": "execute_result"
    }
   ],
   "source": [
    "sent = 'Hi, my email address is harshilb2712@gmail.com'\n",
    "regex = '[a-z0-9]*@gmail.com'\n",
    "re.findall(regex, sent)"
   ]
  },
  {
   "cell_type": "code",
   "execution_count": 15,
   "id": "convenient-personal",
   "metadata": {},
   "outputs": [
    {
     "data": {
      "text/plain": [
       "['b2712@gmail.com']"
      ]
     },
     "execution_count": 15,
     "metadata": {},
     "output_type": "execute_result"
    }
   ],
   "source": [
    "sent = 'Hi, my email address is harshilb2712@gmail.com'\n",
    "regex = '[a-z][0-9]*@gmail.com'\n",
    "re.findall(regex, sent)"
   ]
  },
  {
   "cell_type": "code",
   "execution_count": 16,
   "id": "wrapped-navigation",
   "metadata": {},
   "outputs": [
    {
     "data": {
      "text/plain": [
       "['harshilb2712@gmail.com', 'some@gmail.com']"
      ]
     },
     "execution_count": 16,
     "metadata": {},
     "output_type": "execute_result"
    }
   ],
   "source": [
    "sent = 'Hi, my email address is harshilb2712@gmail.com some@gmail.com'\n",
    "regex = '[a-z0-9]*@gmail.com'\n",
    "re.findall(regex, sent)"
   ]
  },
  {
   "cell_type": "code",
   "execution_count": 17,
   "id": "accessible-peter",
   "metadata": {},
   "outputs": [
    {
     "data": {
      "text/plain": [
       "['harshilb2712@gmail.com', '@gmail.com']"
      ]
     },
     "execution_count": 17,
     "metadata": {},
     "output_type": "execute_result"
    }
   ],
   "source": [
    "sent = 'Hi, my email address is harshilb2712@gmail.com @gmail.com'\n",
    "regex = '[a-z0-9]*@gmail.com'\n",
    "re.findall(regex, sent)"
   ]
  },
  {
   "cell_type": "code",
   "execution_count": 18,
   "id": "maritime-layer",
   "metadata": {},
   "outputs": [
    {
     "data": {
      "text/plain": [
       "['harshilb2712@gmail.com', 'some@gmail.com']"
      ]
     },
     "execution_count": 18,
     "metadata": {},
     "output_type": "execute_result"
    }
   ],
   "source": [
    "sent = 'Hi, my email address is harshilb2712@gmail.com some@gmail.com'\n",
    "regex = '[a-z0-9]+@gmail.com'\n",
    "re.findall(regex, sent)"
   ]
  },
  {
   "cell_type": "code",
   "execution_count": 19,
   "id": "devoted-reward",
   "metadata": {},
   "outputs": [
    {
     "data": {
      "text/plain": [
       "['harshilb2712@gmail.com']"
      ]
     },
     "execution_count": 19,
     "metadata": {},
     "output_type": "execute_result"
    }
   ],
   "source": [
    "sent = 'Hi, my email address is harshilb2712@gmail.com @gmail.com'\n",
    "regex = '[a-z0-9]+@gmail.com'\n",
    "re.findall(regex, sent)"
   ]
  },
  {
   "cell_type": "code",
   "execution_count": 27,
   "id": "concerned-nightlife",
   "metadata": {},
   "outputs": [],
   "source": [
    "## Quantifiers\n",
    "# + atleast one character\n",
    "# * 0 or more characters\n",
    "# ? zero or one\n",
    "# {4} specified number\n",
    "# {3, 10} specified range"
   ]
  },
  {
   "cell_type": "code",
   "execution_count": 21,
   "id": "informational-element",
   "metadata": {},
   "outputs": [
    {
     "data": {
      "text/plain": [
       "['b2712@gmail.com']"
      ]
     },
     "execution_count": 21,
     "metadata": {},
     "output_type": "execute_result"
    }
   ],
   "source": [
    "sent = 'Hi, my email address is harshil.b2712@gmail.com @gmail.com'\n",
    "regex = '[a-z0-9]+@gmail.com'\n",
    "re.findall(regex, sent)"
   ]
  },
  {
   "cell_type": "code",
   "execution_count": 22,
   "id": "opponent-medication",
   "metadata": {},
   "outputs": [
    {
     "data": {
      "text/plain": [
       "['harshil.b2712@gmail.com']"
      ]
     },
     "execution_count": 22,
     "metadata": {},
     "output_type": "execute_result"
    }
   ],
   "source": [
    "sent = 'Hi, my email address is harshil.b2712@gmail.com @gmail.com'\n",
    "regex = '[a-z0-9.]+@gmail.com'\n",
    "re.findall(regex, sent)"
   ]
  },
  {
   "cell_type": "code",
   "execution_count": 26,
   "id": "bronze-brooks",
   "metadata": {},
   "outputs": [
    {
     "data": {
      "text/plain": [
       "['Mr Someone Sometitle']"
      ]
     },
     "execution_count": 26,
     "metadata": {},
     "output_type": "execute_result"
    }
   ],
   "source": [
    "sent = 'Mr Someone Sometitle is going to somewhere'\n",
    "sente = 'maybe = Mr. Someone is going to somewhere'\n",
    "\n",
    "regex = 'Mr[.]? [A-Z][a-z]* [A-Za-z]*'\n",
    "re.findall(regex, sent)"
   ]
  },
  {
   "cell_type": "code",
   "execution_count": 29,
   "id": "structured-homework",
   "metadata": {},
   "outputs": [
    {
     "data": {
      "text/plain": [
       "['l.b2712@gmail.com']"
      ]
     },
     "execution_count": 29,
     "metadata": {},
     "output_type": "execute_result"
    }
   ],
   "source": [
    "sent = 'Hi, my email address is harshil.b2712@gmail.com @gmail.com'\n",
    "regex = '[a-z0-9.]{7}@gmail.com'\n",
    "re.findall(regex, sent)"
   ]
  },
  {
   "cell_type": "code",
   "execution_count": 31,
   "id": "human-passport",
   "metadata": {},
   "outputs": [
    {
     "data": {
      "text/plain": [
       "['l.b2712@gmail.com']"
      ]
     },
     "execution_count": 31,
     "metadata": {},
     "output_type": "execute_result"
    }
   ],
   "source": [
    "sent = 'Hi, my email address is harshil.b2712@gmail.com @gmail.com'\n",
    "regex = '[a-z0-9.]{2,7}@gmail.com'\n",
    "re.findall(regex, sent)"
   ]
  },
  {
   "cell_type": "code",
   "execution_count": 32,
   "id": "nervous-frost",
   "metadata": {},
   "outputs": [
    {
     "data": {
      "text/plain": [
       "['l.b2712@gmail.com', '@gmail.com']"
      ]
     },
     "execution_count": 32,
     "metadata": {},
     "output_type": "execute_result"
    }
   ],
   "source": [
    "sent = 'Hi, my email address is harshil.b2712@gmail.com @gmail.com'\n",
    "regex = '[a-z0-9.]{,7}@gmail.com'\n",
    "re.findall(regex, sent)"
   ]
  },
  {
   "cell_type": "code",
   "execution_count": 33,
   "id": "primary-throat",
   "metadata": {},
   "outputs": [
    {
     "data": {
      "text/plain": [
       "['harshil.b2712@gmail.com']"
      ]
     },
     "execution_count": 33,
     "metadata": {},
     "output_type": "execute_result"
    }
   ],
   "source": [
    "sent = 'Hi, my email address is harshil.b2712@gmail.com l@gmail.com'\n",
    "regex = '[a-z0-9.]{2,}@gmail.com'\n",
    "re.findall(regex, sent)"
   ]
  },
  {
   "cell_type": "code",
   "execution_count": 38,
   "id": "prescription-white",
   "metadata": {},
   "outputs": [
    {
     "data": {
      "text/plain": [
       "['rshil.b2712@gmail.com', 'ul@gmail.com']"
      ]
     },
     "execution_count": 38,
     "metadata": {},
     "output_type": "execute_result"
    }
   ],
   "source": [
    "sent = 'Hi, my email address is harshil.b2712@gmail.com ul@gmail.com'\n",
    "regex = '[b-z0-9.]{2,}@gmail.com'\n",
    "re.findall(regex, sent)"
   ]
  },
  {
   "cell_type": "code",
   "execution_count": 41,
   "id": "transsexual-superior",
   "metadata": {},
   "outputs": [
    {
     "data": {
      "text/plain": [
       "'Hi, my email address is harshilb@gmail.com'"
      ]
     },
     "execution_count": 41,
     "metadata": {},
     "output_type": "execute_result"
    }
   ],
   "source": [
    "sen"
   ]
  },
  {
   "cell_type": "code",
   "execution_count": 40,
   "id": "manual-david",
   "metadata": {},
   "outputs": [
    {
     "data": {
      "text/plain": [
       "['i', 'e', 'a', 'i', 'a', 'e', 'i', 'a', 'i', 'a', 'i', 'o']"
      ]
     },
     "execution_count": 40,
     "metadata": {},
     "output_type": "execute_result"
    }
   ],
   "source": [
    "re.findall('[aeiou]', sen)"
   ]
  },
  {
   "cell_type": "code",
   "execution_count": 45,
   "id": "featured-symposium",
   "metadata": {},
   "outputs": [
    {
     "data": {
      "text/plain": [
       "['i', 'e', 'ai', 'a', 'e', 'i', 'a', 'i', 'ai', 'o']"
      ]
     },
     "execution_count": 45,
     "metadata": {},
     "output_type": "execute_result"
    }
   ],
   "source": [
    "re.findall('[aeiou]+', sen)"
   ]
  },
  {
   "cell_type": "code",
   "execution_count": 48,
   "id": "toxic-criminal",
   "metadata": {},
   "outputs": [
    {
     "name": "stdout",
     "output_type": "stream",
     "text": [
      "Enter sentence: hello, my number is 9354328855 and my other number is 7418529630\n"
     ]
    },
    {
     "data": {
      "text/plain": [
       "['9354328855', '7418529630']"
      ]
     },
     "execution_count": 48,
     "metadata": {},
     "output_type": "execute_result"
    }
   ],
   "source": [
    "# WAP to print a 10-digit mobile number from a string input from user.\n",
    "u = input('Enter sentence: ')\n",
    "re.findall('[0-9]{10}', u)"
   ]
  },
  {
   "cell_type": "code",
   "execution_count": 49,
   "id": "buried-moderator",
   "metadata": {},
   "outputs": [
    {
     "data": {
      "text/plain": [
       "['rshil.b2712@gmail.com', 'ul@gmail.com']"
      ]
     },
     "execution_count": 49,
     "metadata": {},
     "output_type": "execute_result"
    }
   ],
   "source": [
    "sent = 'Hi, my email address is harshil.b2712@gmail.com ul@gmail.com'\n",
    "regex = '[b-z0-9.]{2,}@gmail.com'\n",
    "re.findall(regex, sent)"
   ]
  },
  {
   "cell_type": "code",
   "execution_count": 50,
   "id": "italic-zoning",
   "metadata": {},
   "outputs": [
    {
     "data": {
      "text/plain": [
       "['rshil.b2712@gmailpcom', 'ul@gmail.com']"
      ]
     },
     "execution_count": 50,
     "metadata": {},
     "output_type": "execute_result"
    }
   ],
   "source": [
    "sent = 'Hi, my email address is harshil.b2712@gmailpcom ul@gmail.com'\n",
    "regex = '[b-z0-9.]{2,}@gmail.com'\n",
    "re.findall(regex, sent)"
   ]
  },
  {
   "cell_type": "code",
   "execution_count": 51,
   "id": "through-siemens",
   "metadata": {},
   "outputs": [
    {
     "data": {
      "text/plain": [
       "['hell', 'bell', 'cell']"
      ]
     },
     "execution_count": 51,
     "metadata": {},
     "output_type": "execute_result"
    }
   ],
   "source": [
    "re.findall('.ell', 'hell bell cell call')"
   ]
  },
  {
   "cell_type": "code",
   "execution_count": 52,
   "id": "least-paste",
   "metadata": {},
   "outputs": [
    {
     "data": {
      "text/plain": [
       "['ul@gmail.com']"
      ]
     },
     "execution_count": 52,
     "metadata": {},
     "output_type": "execute_result"
    }
   ],
   "source": [
    "sent = 'Hi, my email address is harshil.b2712@gmailpcom ul@gmail.com'\n",
    "regex = '[b-z0-9.]{2,}@gmail[.]com'\n",
    "re.findall(regex, sent)"
   ]
  },
  {
   "cell_type": "code",
   "execution_count": 53,
   "id": "timely-elephant",
   "metadata": {},
   "outputs": [
    {
     "data": {
      "text/plain": [
       "'27-12-1990'"
      ]
     },
     "execution_count": 53,
     "metadata": {},
     "output_type": "execute_result"
    }
   ],
   "source": [
    "dob = '27/12/1990'\n",
    "dr = dob.replace('/', '-')\n",
    "dr"
   ]
  },
  {
   "cell_type": "code",
   "execution_count": 54,
   "id": "textile-crash",
   "metadata": {},
   "outputs": [
    {
     "data": {
      "text/plain": [
       "'27-12:1990'"
      ]
     },
     "execution_count": 54,
     "metadata": {},
     "output_type": "execute_result"
    }
   ],
   "source": [
    "dob = '27/12:1990'\n",
    "dr = dob.replace('/', '-')\n",
    "dr"
   ]
  },
  {
   "cell_type": "code",
   "execution_count": 55,
   "id": "motivated-savannah",
   "metadata": {},
   "outputs": [
    {
     "data": {
      "text/plain": [
       "'27-12-1990'"
      ]
     },
     "execution_count": 55,
     "metadata": {},
     "output_type": "execute_result"
    }
   ],
   "source": [
    "dob = '27/12:1990'\n",
    "dr1 = re.sub('[/:]', '-', dob)\n",
    "dr1"
   ]
  },
  {
   "cell_type": "code",
   "execution_count": 56,
   "id": "harmful-auckland",
   "metadata": {},
   "outputs": [
    {
     "data": {
      "text/plain": [
       "['27', '12', '1990']"
      ]
     },
     "execution_count": 56,
     "metadata": {},
     "output_type": "execute_result"
    }
   ],
   "source": [
    "dob = '27/12/1990'\n",
    "dl = dob.split('/')\n",
    "dl"
   ]
  },
  {
   "cell_type": "code",
   "execution_count": 57,
   "id": "numerical-motor",
   "metadata": {},
   "outputs": [
    {
     "data": {
      "text/plain": [
       "['27', '12:1990']"
      ]
     },
     "execution_count": 57,
     "metadata": {},
     "output_type": "execute_result"
    }
   ],
   "source": [
    "dob = '27/12:1990'\n",
    "dl = dob.split('/')\n",
    "dl"
   ]
  },
  {
   "cell_type": "code",
   "execution_count": 58,
   "id": "embedded-shareware",
   "metadata": {},
   "outputs": [
    {
     "data": {
      "text/plain": [
       "['27', '12', '1990']"
      ]
     },
     "execution_count": 58,
     "metadata": {},
     "output_type": "execute_result"
    }
   ],
   "source": [
    "dob = '27/12:1990'\n",
    "dl1 = re.split('[/:]', dob)\n",
    "dl1"
   ]
  },
  {
   "cell_type": "code",
   "execution_count": 2,
   "id": "efc8f029",
   "metadata": {},
   "outputs": [],
   "source": [
    "import re"
   ]
  },
  {
   "cell_type": "code",
   "execution_count": 3,
   "id": "eligible-mambo",
   "metadata": {},
   "outputs": [
    {
     "data": {
      "text/plain": [
       "['9354-328-855']"
      ]
     },
     "execution_count": 3,
     "metadata": {},
     "output_type": "execute_result"
    }
   ],
   "source": [
    "s = 'hello, my number is 9354-328-855 935-4328-855'\n",
    "regex = '[0-9]{4}-[0-9]{3}-[0-9]{3}'\n",
    "re.findall(regex, s)"
   ]
  },
  {
   "cell_type": "code",
   "execution_count": 63,
   "id": "handled-norway",
   "metadata": {},
   "outputs": [
    {
     "data": {
      "text/plain": [
       "['rshil.b2712@gmailpcom', 'ul@gmail.com']"
      ]
     },
     "execution_count": 63,
     "metadata": {},
     "output_type": "execute_result"
    }
   ],
   "source": [
    "sent = 'Hi, my email address is harshil.b2712@gmailpcom ul@gmail.com'\n",
    "regex = '[b-z0-9.]{2,}@gmail.com'\n",
    "re.findall(regex, sent)"
   ]
  },
  {
   "cell_type": "code",
   "execution_count": 69,
   "id": "perfect-rochester",
   "metadata": {},
   "outputs": [
    {
     "data": {
      "text/plain": [
       "'rshil.b2712@gmail.com'"
      ]
     },
     "execution_count": 69,
     "metadata": {},
     "output_type": "execute_result"
    }
   ],
   "source": [
    "sent = 'Hi, my email address is harshil.b2712@gmail.com ul@gmail.com'\n",
    "regex = '[b-z0-9.]{2,}@gmail.com'\n",
    "re.search(regex, sent).group()"
   ]
  },
  {
   "cell_type": "code",
   "execution_count": 74,
   "id": "least-effect",
   "metadata": {},
   "outputs": [
    {
     "data": {
      "text/plain": [
       "['-935876998']"
      ]
     },
     "execution_count": 74,
     "metadata": {},
     "output_type": "execute_result"
    }
   ],
   "source": [
    "s=\"hello my no is : -9358769987\"\n",
    "regx='[0-9-]{10}'\n",
    "re.findall(regx, s)"
   ]
  },
  {
   "cell_type": "markdown",
   "id": "green-summary",
   "metadata": {},
   "source": [
    "# Github"
   ]
  },
  {
   "cell_type": "markdown",
   "id": "completed-devil",
   "metadata": {},
   "source": [
    "Git: Version Control System (VCS)"
   ]
  },
  {
   "cell_type": "markdown",
   "id": "proved-concert",
   "metadata": {},
   "source": [
    "Git is a distributed version control system that tracks changes in any set of computer files, usually used for coordinating work among programmers collaboratively developing source code during software development. "
   ]
  },
  {
   "cell_type": "code",
   "execution_count": null,
   "id": "dated-cholesterol",
   "metadata": {},
   "outputs": [],
   "source": [
    "# Project:\n",
    "# Day1: H1.py\n",
    "# Day2: H2.py = H1.py + modifications\n",
    "# Day3: H3.py\n",
    "\n",
    "    \n",
    "# Day10: H10.py"
   ]
  },
  {
   "cell_type": "code",
   "execution_count": null,
   "id": "therapeutic-cleaners",
   "metadata": {},
   "outputs": [],
   "source": [
    "open('file.txt')"
   ]
  }
 ],
 "metadata": {
  "kernelspec": {
   "display_name": "Python 3 (ipykernel)",
   "language": "python",
   "name": "python3"
  },
  "language_info": {
   "codemirror_mode": {
    "name": "ipython",
    "version": 3
   },
   "file_extension": ".py",
   "mimetype": "text/x-python",
   "name": "python",
   "nbconvert_exporter": "python",
   "pygments_lexer": "ipython3",
   "version": "3.10.9"
  }
 },
 "nbformat": 4,
 "nbformat_minor": 5
}
